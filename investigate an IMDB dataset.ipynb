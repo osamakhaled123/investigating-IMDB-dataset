{
 "cells": [
  {
   "cell_type": "markdown",
   "metadata": {},
   "source": [
    "# Project: Investigate a Dataset: TMDb movie data\n",
    "\n",
    "## Table of Contents\n",
    "<ul>\n",
    "<li><a href=\"#intro\">Introduction</a></li>\n",
    "<li><a href=\"#wrangling\">Data Wrangling</a></li>\n",
    "<li><a href=\"#eda\">Exploratory Data Analysis</a></li>\n",
    "<li><a href=\"#conclusions\">Conclusions</a></li>\n",
    "</ul>"
   ]
  },
  {
   "cell_type": "markdown",
   "metadata": {},
   "source": [
    "<a id='intro'></a>\n",
    "## Introduction\n",
    "\n",
    "#### This dataset is a movie dataset includes dfifferent such  features like: ID of the movies, movies names, cast of each movie,  directors of each movie and etc, from the year 1960 upto 2015.\n",
    "\n",
    "#### The objective from this dataset is to clean it and explore its features to get some conclusion to report it and communicate using it also with some visualizations to express the results. "
   ]
  },
  {
   "cell_type": "code",
   "execution_count": 151,
   "metadata": {},
   "outputs": [],
   "source": [
    "import pandas as pd\n",
    "import numpy as np\n",
    "import matplotlib.pyplot as plt"
   ]
  },
  {
   "cell_type": "markdown",
   "metadata": {},
   "source": [
    "<a id='Question'></a>\n",
    "## Asking Questions\n",
    "\n",
    "#### 1) Most Popular Movie\n",
    "#### 2) Companies with the highest Average Popularity Movies\n",
    "#### 3) Most  year has maximum revenue plotted\n",
    "#### 4) Most  year has maximum profit plotted\n",
    "#### 5) Movie with maximum profit\n",
    "#### 6) Most Director with maximum average revenue of movies\n",
    "#### 7) Movie with maximum profit\n",
    "#### 8) Movies with vote counts above the median\n",
    "#### 9) Most Action movie with maximum profit\n",
    "#### 10) Movie with maximum profit\n",
    "#### 11) Companies with higher average profit"
   ]
  },
  {
   "cell_type": "markdown",
   "metadata": {},
   "source": [
    "<a id='wrangling'></a>\n",
    "## Data Wrangling\n",
    "\n",
    "### General Properties\n",
    "### Load the data and see its columns"
   ]
  },
  {
   "cell_type": "code",
   "execution_count": 152,
   "metadata": {},
   "outputs": [
    {
     "name": "stdout",
     "output_type": "stream",
     "text": [
      "Index(['id', 'imdb_id', 'popularity', 'budget', 'revenue', 'original_title',\n",
      "       'cast', 'homepage', 'director', 'tagline', 'keywords', 'overview',\n",
      "       'runtime', 'genres', 'production_companies', 'release_date',\n",
      "       'vote_count', 'vote_average', 'release_year', 'budget_adj',\n",
      "       'revenue_adj'],\n",
      "      dtype='object') \n",
      "\n"
     ]
    }
   ],
   "source": [
    "df = pd.read_csv('tmdb-movies.csv')\n",
    "print(df.columns,\"\\n\")"
   ]
  },
  {
   "cell_type": "markdown",
   "metadata": {},
   "source": [
    "## Data Cleaning\n",
    "\n",
    "#### 1) Drop the unnecessary features"
   ]
  },
  {
   "cell_type": "markdown",
   "metadata": {},
   "source": [
    "#### 2) Drop rows with NaN values"
   ]
  },
  {
   "cell_type": "markdown",
   "metadata": {},
   "source": [
    "#### 3) Remove duplicate rows (if any)"
   ]
  },
  {
   "cell_type": "code",
   "execution_count": 153,
   "metadata": {},
   "outputs": [],
   "source": [
    "# After discussing the structure of the data and any problems that need to be\n",
    "#   cleaned, perform those cleaning steps in the second part of this section.\n",
    "\n",
    "# Droping not needed columns\n",
    "df.drop(['id','imdb_id','cast', 'homepage','tagline', 'keywords', 'overview',\n",
    "       'runtime','release_date','vote_average','budget_adj',\n",
    "       'revenue_adj','director'],axis = 1, inplace = True)"
   ]
  },
  {
   "cell_type": "code",
   "execution_count": 154,
   "metadata": {},
   "outputs": [
    {
     "name": "stdout",
     "output_type": "stream",
     "text": [
      "<class 'pandas.core.frame.DataFrame'>\n",
      "RangeIndex: 10866 entries, 0 to 10865\n",
      "Data columns (total 8 columns):\n",
      " #   Column                Non-Null Count  Dtype  \n",
      "---  ------                --------------  -----  \n",
      " 0   popularity            10866 non-null  float64\n",
      " 1   budget                10866 non-null  int64  \n",
      " 2   revenue               10866 non-null  int64  \n",
      " 3   original_title        10866 non-null  object \n",
      " 4   genres                10843 non-null  object \n",
      " 5   production_companies  9836 non-null   object \n",
      " 6   vote_count            10866 non-null  int64  \n",
      " 7   release_year          10866 non-null  int64  \n",
      "dtypes: float64(1), int64(4), object(3)\n",
      "memory usage: 679.2+ KB\n"
     ]
    }
   ],
   "source": [
    "## seeing the properties of each cloumn,\n",
    "# and if there are NaN values\n",
    "df.info()"
   ]
  },
  {
   "cell_type": "code",
   "execution_count": 155,
   "metadata": {},
   "outputs": [],
   "source": [
    "# Drop rows with NaN values\n",
    "df.dropna(axis = 0,inplace = True)"
   ]
  },
  {
   "cell_type": "code",
   "execution_count": 156,
   "metadata": {},
   "outputs": [],
   "source": [
    "# Remove duplicate rows (if any)\n",
    "df.drop_duplicates(inplace = True)"
   ]
  },
  {
   "cell_type": "markdown",
   "metadata": {},
   "source": [
    "<a id='eda'></a>\n",
    "## Exploratory Data Analysis\n",
    "\n",
    "\n",
    "### Research Question 1) Most Popular Movie"
   ]
  },
  {
   "cell_type": "code",
   "execution_count": 157,
   "metadata": {},
   "outputs": [
    {
     "data": {
      "text/plain": [
       "'Jurassic World'"
      ]
     },
     "execution_count": 157,
     "metadata": {},
     "output_type": "execute_result"
    }
   ],
   "source": [
    "# getting the most popular movie in this dataset\n",
    "max_popularity = df.popularity.max()\n",
    "top_popular_movie = df[df['popularity'] == max_popularity]\n",
    "top_popular_movie = top_popular_movie.original_title[0]\n",
    "top_popular_movie"
   ]
  },
  {
   "cell_type": "markdown",
   "metadata": {},
   "source": [
    "### It is found that the most popular movie in the dataset is \"Jurassic World\"\n",
    "### ----------------------------------------------------------------------------------------------------------------------------"
   ]
  },
  {
   "cell_type": "markdown",
   "metadata": {},
   "source": [
    "### Research Question 2) Companies with the highest Average Popularity Movies"
   ]
  },
  {
   "cell_type": "code",
   "execution_count": 158,
   "metadata": {},
   "outputs": [
    {
     "data": {
      "text/plain": [
       "'Universal Studios|Amblin Entertainment|Legendary Pictures|Fuji Television Network|Dentsu'"
      ]
     },
     "execution_count": 158,
     "metadata": {},
     "output_type": "execute_result"
    }
   ],
   "source": [
    "# getting Companies with the highest Average Popularity Movies\n",
    "Company_popularity_average = df.groupby('production_companies').popularity.mean()\n",
    "Company_popularity_average.sort_values().index[-1]"
   ]
  },
  {
   "cell_type": "markdown",
   "metadata": {},
   "source": [
    "### It is found that the Most companies made movies together with highest average popularity are Those [Universal Studios, Amblin Entertainment, Legendary Pictures, Fuji Television Network, Dentsu]"
   ]
  },
  {
   "cell_type": "markdown",
   "metadata": {},
   "source": [
    "### ----------------------------------------------------------------------------------------------------------------------------"
   ]
  },
  {
   "cell_type": "markdown",
   "metadata": {},
   "source": [
    "### Research Question 3)  Most year has maximum revenue"
   ]
  },
  {
   "cell_type": "code",
   "execution_count": 159,
   "metadata": {},
   "outputs": [
    {
     "data": {
      "text/plain": [
       "2015"
      ]
     },
     "execution_count": 159,
     "metadata": {},
     "output_type": "execute_result"
    }
   ],
   "source": [
    "df_max_year_revenue = df.groupby('release_year')['revenue'].sum()\n",
    "df_max_year_revenue[df_max_year_revenue == df_max_year_revenue.max()].index[0]"
   ]
  },
  {
   "cell_type": "markdown",
   "metadata": {},
   "source": [
    "### It is found that the year has maximum revenue in the dataset is 2015\n",
    "### -----------------------------------------------------------------------------------------------------------"
   ]
  },
  {
   "cell_type": "code",
   "execution_count": 160,
   "metadata": {},
   "outputs": [],
   "source": [
    "# custom function to wrap a visualiztion function using bar chart plot\n",
    "def display_barplot(feature, xlabel, ylabel, title):\n",
    "    \"\"\" a function that takes four arguments\n",
    "        to plot a graph of a variable as a bar chart\n",
    "        to conclude some information from it\n",
    "        \n",
    "        (feature): the variable to be plotted\n",
    "        (xlabel): the label of the x-axis of the plot\n",
    "        (ylabel): the label of the y-axis of the plot\n",
    "        (title): the title of the plot\n",
    "    \"\"\"\n",
    "    plt.bar(feature.index, feature);\n",
    "    plt.title(title);\n",
    "    plt.xlabel(xlabel);\n",
    "    plt.ylabel(ylabel);\n",
    "    plt.show();\n",
    "    \n",
    "    \n",
    "def display_histogram(feature):\n",
    "    \"\"\"a function that takes 1 argument to show the distribution of a feature\n",
    "        using histogram plot and all its summarize describe statistics\n",
    "        \n",
    "        (feature): the variable to show its distribution and statistics\n",
    "    \"\"\"\n",
    "    print(feature.describe())\n",
    "    plt.hist(feature);"
   ]
  },
  {
   "cell_type": "code",
   "execution_count": 161,
   "metadata": {},
   "outputs": [
    {
     "data": {
      "image/png": "[encoded data removed]",
      "text/plain": [
       "<Figure size 432x288 with 1 Axes>"
      ]
     },
     "metadata": {
      "needs_background": "light"
     },
     "output_type": "display_data"
    }
   ],
   "source": [
    "display_barplot(df_max_year_revenue, 'Years from 1960 to 2015', 'Total Revenue', 'Total revenue of each year from 1960 to 2015')"
   ]
  },
  {
   "cell_type": "markdown",
   "metadata": {},
   "source": [
    "### The plot above shows that it is sharply left skewed, which means that over the years the popularity of movies is increasing"
   ]
  },
  {
   "cell_type": "markdown",
   "metadata": {},
   "source": [
    "### ----------------------------------------------------------------------------------------------------------------------------"
   ]
  },
  {
   "cell_type": "markdown",
   "metadata": {},
   "source": [
    "### Research Question 4) Most year has maximum profit"
   ]
  },
  {
   "cell_type": "code",
   "execution_count": 162,
   "metadata": {},
   "outputs": [
    {
     "data": {
      "text/plain": [
       "2015"
      ]
     },
     "execution_count": 162,
     "metadata": {},
     "output_type": "execute_result"
    }
   ],
   "source": [
    "df['profit'] = df['revenue'] - df['budget']\n",
    "df_max_year_profit = df.groupby('release_year')['profit'].sum()\n",
    "df_max_year_profit[df_max_year_profit == df_max_year_profit.max()].index[0]"
   ]
  },
  {
   "cell_type": "markdown",
   "metadata": {},
   "source": [
    "### It is found that the year has maximum profit in the dataset is 2015"
   ]
  },
  {
   "cell_type": "code",
   "execution_count": 163,
   "metadata": {},
   "outputs": [
    {
     "name": "stdout",
     "output_type": "stream",
     "text": [
      "count    9.826000e+03\n",
      "mean     2.789606e+07\n",
      "std      1.011871e+08\n",
      "min     -4.139124e+08\n",
      "25%      0.000000e+00\n",
      "50%      0.000000e+00\n",
      "75%      1.404158e+07\n",
      "max      2.544506e+09\n",
      "Name: profit, dtype: float64\n"
     ]
    },
    {
     "data": {
      "image/png": "[encoded data removed]",
      "text/plain": [
       "<Figure size 432x288 with 1 Axes>"
      ]
     },
     "metadata": {
      "needs_background": "light"
     },
     "output_type": "display_data"
    }
   ],
   "source": [
    "display_histogram(df.profit)"
   ]
  },
  {
   "cell_type": "markdown",
   "metadata": {},
   "source": [
    "### The distribution of the profit feature in the dataset is seems to be right skewed, which means that more than 75% of the profits of movies in this dataset over the years from 1960 up to 2015 is below the average of the profit"
   ]
  },
  {
   "cell_type": "code",
   "execution_count": 164,
   "metadata": {},
   "outputs": [
    {
     "data": {
      "image/png": "[encoded data removed]",
      "text/plain": [
       "<Figure size 432x288 with 1 Axes>"
      ]
     },
     "metadata": {
      "needs_background": "light"
     },
     "output_type": "display_data"
    }
   ],
   "source": [
    "display_barplot(df_max_year_profit, 'Years from 1960 to 2015', 'Total Profit', 'Total Profit of each year from 1960 to 2015')"
   ]
  },
  {
   "cell_type": "markdown",
   "metadata": {},
   "source": [
    "### The plot above shows that it is a left skewed, which means that over the years the popularity of movies is increasing and the profit of each decade is increasing comparable to the decades before"
   ]
  },
  {
   "cell_type": "markdown",
   "metadata": {},
   "source": [
    "### ----------------------------------------------------------------------------------------------------------------------------\n",
    "###  Research Question 5) The average rate of growth of revenue for each year in the dateset from 1960 to 2015"
   ]
  },
  {
   "cell_type": "code",
   "execution_count": 165,
   "metadata": {},
   "outputs": [
    {
     "name": "stdout",
     "output_type": "stream",
     "text": [
      "count    9826.000000\n",
      "mean     2000.903216\n",
      "std        13.032568\n",
      "min      1960.000000\n",
      "25%      1994.000000\n",
      "50%      2005.000000\n",
      "75%      2011.000000\n",
      "max      2015.000000\n",
      "Name: release_year, dtype: float64\n"
     ]
    },
    {
     "data": {
      "image/png": "[encoded data removed]",
      "text/plain": [
       "<Figure size 432x288 with 1 Axes>"
      ]
     },
     "metadata": {
      "needs_background": "light"
     },
     "output_type": "display_data"
    }
   ],
   "source": [
    "display_histogram(df.release_year)"
   ]
  },
  {
   "cell_type": "markdown",
   "metadata": {},
   "source": [
    "### The distribution of the release_year feature in the dataset is seems to be left skewed, which means that as we go over the years as we produce more and more movies, more than the past years"
   ]
  },
  {
   "cell_type": "code",
   "execution_count": 166,
   "metadata": {},
   "outputs": [
    {
     "data": {
      "image/png": "[encoded data removed]",
      "text/plain": [
       "<Figure size 432x288 with 1 Axes>"
      ]
     },
     "metadata": {
      "needs_background": "light"
     },
     "output_type": "display_data"
    }
   ],
   "source": [
    "plt.plot(df.groupby('release_year').revenue.mean());"
   ]
  },
  {
   "cell_type": "markdown",
   "metadata": {},
   "source": [
    "### We conclude that the average rate of growth of revenue for each year in the dateset is increasing from the first year in the dataset (1960) till nearly 2004, and it starts to decrease to the last year in the dataset (2015)"
   ]
  },
  {
   "cell_type": "markdown",
   "metadata": {},
   "source": [
    "### ----------------------------------------------------------------------------------------------------------------------------\n",
    "###  Research Question 6) Movie with maximum profit"
   ]
  },
  {
   "cell_type": "code",
   "execution_count": 167,
   "metadata": {},
   "outputs": [
    {
     "data": {
      "text/plain": [
       "'(500) Days of Summer'"
      ]
     },
     "execution_count": 167,
     "metadata": {},
     "output_type": "execute_result"
    }
   ],
   "source": [
    "df.groupby('original_title')['profit'].max().index[3]"
   ]
  },
  {
   "cell_type": "markdown",
   "metadata": {},
   "source": [
    "### We conclude that the movie with maximum profit is \"(500) Days of Summer\""
   ]
  },
  {
   "cell_type": "markdown",
   "metadata": {},
   "source": [
    "### ----------------------------------------------------------------------------------------------------------------------------\n",
    "###  Research Question 7) Most Action movie with maximum profit"
   ]
  },
  {
   "cell_type": "code",
   "execution_count": 168,
   "metadata": {},
   "outputs": [
    {
     "data": {
      "text/plain": [
       "25    Mission: Impossible - Rogue Nation\n",
       "Name: original_title, dtype: object"
      ]
     },
     "execution_count": 168,
     "metadata": {},
     "output_type": "execute_result"
    }
   ],
   "source": [
    "df_action = df.query('\"Action\" in genres')\n",
    "max_profit = df_action.groupby('original_title').profit.max().max()\n",
    "df[df['profit'] == max_profit]['original_title']"
   ]
  },
  {
   "cell_type": "markdown",
   "metadata": {},
   "source": [
    "### We found that the Action movie with the maximum profit is \"Mission: Impossible - Rogue Nation\""
   ]
  },
  {
   "cell_type": "markdown",
   "metadata": {},
   "source": [
    "### ----------------------------------------------------------------------------------------------------------------------------\n",
    "###  Research Question 8) Number of movies with vote counts above the median"
   ]
  },
  {
   "cell_type": "code",
   "execution_count": 169,
   "metadata": {},
   "outputs": [
    {
     "data": {
      "text/plain": [
       "4912"
      ]
     },
     "execution_count": 169,
     "metadata": {},
     "output_type": "execute_result"
    }
   ],
   "source": [
    "median_ = df['vote_count'].median()\n",
    "df_counts = df[df['vote_count'] > median_]\n",
    "df_counts.original_title.count()"
   ]
  },
  {
   "cell_type": "markdown",
   "metadata": {},
   "source": [
    "### We found that just 4912 out if 9826 movies have vote counts above the median of all vote counts"
   ]
  },
  {
   "cell_type": "markdown",
   "metadata": {},
   "source": [
    "### ----------------------------------------------------------------------------------------------------------------------------\n",
    "###  Research Question 9) Popularity of movies in each year from 1960 to 2015"
   ]
  },
  {
   "cell_type": "code",
   "execution_count": 170,
   "metadata": {},
   "outputs": [
    {
     "data": {
      "image/png": "[encoded data removed]",
      "text/plain": [
       "<Figure size 432x288 with 1 Axes>"
      ]
     },
     "metadata": {
      "needs_background": "light"
     },
     "output_type": "display_data"
    }
   ],
   "source": [
    "df_popularity = df.groupby('release_year')['popularity'].sum()\n",
    "\n",
    "display_barplot(df_popularity, 'Years from 1960 to 2015', 'Popularity of movies for each year', 'Popularity of movies through the years from 1960 to 2015')"
   ]
  },
  {
   "cell_type": "markdown",
   "metadata": {},
   "source": [
    "### The above plot shows that the year 2015 is the most popular year for movies"
   ]
  },
  {
   "cell_type": "markdown",
   "metadata": {},
   "source": [
    "### ----------------------------------------------------------------------------------------------------------------------------\n",
    "###  Research Question 10) Most common genre of movies occured in this dataset"
   ]
  },
  {
   "cell_type": "code",
   "execution_count": 171,
   "metadata": {},
   "outputs": [
    {
     "data": {
      "image/png": "[encoded data removed]",
      "text/plain": [
       "<Figure size 2160x2160 with 1 Axes>"
      ]
     },
     "metadata": {
      "needs_background": "light"
     },
     "output_type": "display_data"
    }
   ],
   "source": [
    "new_df = df['genres'].apply(lambda x:x.split(\"|\"))\n",
    "dict_movie={}\n",
    "for genre in new_df:\n",
    "    for type_ in genre:\n",
    "        if type_ in dict_movie:\n",
    "            dict_movie[type_] += 1\n",
    "        else:\n",
    "            dict_movie[type_] = 1\n",
    "\n",
    "series = pd.Series(dict_movie)\n",
    "\n",
    "plt.figure(figsize = (30,30));\n",
    "display_barplot(series, \"Movie's genres\", 'Repetition', 'Number of genres occures in the dataset')"
   ]
  },
  {
   "cell_type": "markdown",
   "metadata": {},
   "source": [
    "### From the Figure above we found that the most genre repeated in this dataset is \"Drama\", while the least genre repeated is this dataset is \"Foreign\" "
   ]
  },
  {
   "cell_type": "markdown",
   "metadata": {},
   "source": [
    "### ----------------------------------------------------------------------------------------------------------------------------\n",
    "###  Research Question 11) The relation between revenue and popularity features"
   ]
  },
  {
   "cell_type": "code",
   "execution_count": 185,
   "metadata": {},
   "outputs": [
    {
     "data": {
      "image/png": "[encoded data removed]",
      "text/plain": [
       "<Figure size 720x720 with 1 Axes>"
      ]
     },
     "metadata": {
      "needs_background": "light"
     },
     "output_type": "display_data"
    }
   ],
   "source": [
    "plt.figure(figsize=(10,10));\n",
    "plt.scatter(x = df.release_year, y = df.revenue);\n",
    "plt.title('The correlation between the release years and the revenue');"
   ]
  },
  {
   "cell_type": "markdown",
   "metadata": {},
   "source": [
    "### we see in the plot above that as the year passed as the popularity of movies increases, so the revenue nearly increases\n",
    "### -------------------------------------------------------------------------------------------------------------------------------------------"
   ]
  },
  {
   "cell_type": "markdown",
   "metadata": {},
   "source": [
    "<a id='conclusions'></a>\n",
    "## Conclusions\n",
    "### At the end, from the dataset explored above, there are few conclusions we got from it, and some of them are:\n",
    "#### 1) The data provided by the dataset was sufficient to answet the posed questions\n",
    "#### 2) Some features were excluded from the dataset because they were redundant based on the posed questions at the beginning\n",
    "#### 3) We found that there is nearly strong positive correlation between the release year and the revenue features in the dataset\n",
    "#### 4) It is concluded that the movies that has a Drama genre is the mode (most repeated) in this data set\n",
    "#### 5) The size of the dataset was sort of sufficient to give good judgment about the questions posed\n",
    "#### 6) Cleaning the data in the dataset was did not made any difficult and was not a bad decision to remove duplicate tuples and Nan Values, rather than features that were not be used in analysis\n",
    "#### 7) We conclude that 4912 movies out of 9826 in the dataset after data cleaning got a vote count above the median of vote_count feature"
   ]
  }
 ],
 "metadata": {
  "kernelspec": {
   "display_name": "Python 3 (ipykernel)",
   "language": "python",
   "name": "python3"
  },
  "language_info": {
   "codemirror_mode": {
    "name": "ipython",
    "version": 3
   },
   "file_extension": ".py",
   "mimetype": "text/x-python",
   "name": "python",
   "nbconvert_exporter": "python",
   "pygments_lexer": "ipython3",
   "version": "3.9.6"
  }
 },
 "nbformat": 4,
 "nbformat_minor": 2
}
